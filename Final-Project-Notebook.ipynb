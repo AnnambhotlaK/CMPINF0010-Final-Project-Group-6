{
 "cells": [
  {
   "cell_type": "markdown",
   "id": "31aa5be5-3179-4b94-b675-472b8e44c78e",
   "metadata": {},
   "source": [
    "# Final Project - The Best Neighborhood for Dogs\n",
    "### by Kishore Annambhotla, Bella DeRubeis, and Dionysios Mallas (Group 6)\n",
    "---"
   ]
  },
  {
   "cell_type": "markdown",
   "id": "c4fb8e0c-8b9b-424e-b667-cac051fda5e6",
   "metadata": {},
   "source": [
    "## Introduction"
   ]
  },
  {
   "cell_type": "markdown",
   "id": "61711e97-fd80-460e-97e8-f770422ef9e5",
   "metadata": {},
   "source": [
    "Our project seeks to determine the Pittsburgh neighborhood **best-suited for dogs.** We decided to approach this question by measuring and analyzing data related to things in the environment that benefit dogs in particular.\n",
    "\n",
    "---"
   ]
  },
  {
   "cell_type": "markdown",
   "id": "72b5c3b1-905a-4fe0-9959-ee7ace2cadfc",
   "metadata": {},
   "source": [
    "## Our Metric & Submetrics"
   ]
  },
  {
   "cell_type": "markdown",
   "id": "db7fbaed-6674-4368-a062-ed53b015c8a7",
   "metadata": {},
   "source": [
    "Our overall metric is the quality of a neighborhood for dogs. We decided to measure this with three submetrics: **neighborhood crime rate, average daily air quality, and the presence of parks.** Each of these submetrics was measured using datasets from the **Western Pennsylvania Regional Data Center (WPRDC):**\n",
    "* [Police Incident Blotter](https://data.wprdc.org/dataset/uniform-crime-reporting-data)\n",
    "* [Daily AQI Data](https://data.wprdc.org/dataset/allegheny-county-air-quality/resource/4ab1e23f-3262-4bd3-adbf-f72f0119108b)\n",
    "* [Allegheny County Parks Outlines](https://data.wprdc.org/dataset/allegheny-county-parks-outlines) and [Pittsburgh Parks](https://data.wprdc.org/dataset/parks1)\n",
    "\n",
    "---"
   ]
  },
  {
   "cell_type": "markdown",
   "id": "520ff3e5-e97c-43ba-bbeb-26b2f9030486",
   "metadata": {},
   "source": [
    "## Finding The Best Neighborhood"
   ]
  },
  {
   "cell_type": "markdown",
   "id": "919d6c16-3a90-42cf-9eb8-4d5ca2456c17",
   "metadata": {},
   "source": [
    "## Conclusions"
   ]
  },
  {
   "cell_type": "markdown",
   "id": "7965113e-4a95-4084-a9ff-f9cd99c75591",
   "metadata": {},
   "source": [
    "### Bella"
   ]
  },
  {
   "cell_type": "markdown",
   "id": "3f06f49b-742b-4371-8879-1485cff27f7d",
   "metadata": {},
   "source": [
    "### Dio"
   ]
  },
  {
   "cell_type": "markdown",
   "id": "46523eda-7c83-444e-8b5c-ac0c053ba4c2",
   "metadata": {},
   "source": [
    "### Kishore"
   ]
  }
 ],
 "metadata": {
  "kernelspec": {
   "display_name": "Python 3 (ipykernel)",
   "language": "python",
   "name": "python3"
  },
  "language_info": {
   "codemirror_mode": {
    "name": "ipython",
    "version": 3
   },
   "file_extension": ".py",
   "mimetype": "text/x-python",
   "name": "python",
   "nbconvert_exporter": "python",
   "pygments_lexer": "ipython3",
   "version": "3.12.4"
  }
 },
 "nbformat": 4,
 "nbformat_minor": 5
}
